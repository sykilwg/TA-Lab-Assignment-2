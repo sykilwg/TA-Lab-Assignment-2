{
 "cells": [
  {
   "cell_type": "code",
   "execution_count": 12,
   "id": "ba0dcc12-471b-43db-95cd-f8ffaa22d2cd",
   "metadata": {},
   "outputs": [
    {
     "name": "stderr",
     "output_type": "stream",
     "text": [
      "[nltk_data] Downloading package stopwords to\n",
      "[nltk_data]     C:\\Users\\nsbih\\AppData\\Roaming\\nltk_data...\n",
      "[nltk_data]   Package stopwords is already up-to-date!\n",
      "[nltk_data] Downloading package wordnet to\n",
      "[nltk_data]     C:\\Users\\nsbih\\AppData\\Roaming\\nltk_data...\n",
      "[nltk_data]   Package wordnet is already up-to-date!\n"
     ]
    }
   ],
   "source": [
    "import pandas as pd\n",
    "import numpy as np\n",
    "import re\n",
    "import nltk\n",
    "from nltk.corpus import stopwords\n",
    "from nltk.stem import WordNetLemmatizer\n",
    "import string\n",
    "\n",
    "nltk.download('stopwords')\n",
    "nltk.download('wordnet')\n",
    "\n",
    "df = pd.read_csv('Reviews.csv')\n",
    "df = df[['Score', 'Text']]\n",
    "\n",
    "df.dropna(inplace=True)\n",
    "df.drop_duplicates(inplace=True)"
   ]
  },
  {
   "cell_type": "code",
   "execution_count": 15,
   "id": "d9e9a40a-b957-46de-8a49-a5bd9e211760",
   "metadata": {},
   "outputs": [],
   "source": [
    "def map_sentiment(score):\n",
    "    if score >= 4:\n",
    "        return 'positive'\n",
    "    elif score == 3:\n",
    "        return 'neutral'\n",
    "    else:\n",
    "        return 'negative'"
   ]
  },
  {
   "cell_type": "code",
   "execution_count": 16,
   "id": "60c0b786-ac25-4e88-86f3-87f466d5b188",
   "metadata": {},
   "outputs": [],
   "source": [
    "df['Sentiment'] = df['Score'].apply(map_sentiment)\n",
    "def clean_text(text):\n",
    "    text = text.lower()\n",
    "    text = re.sub(r'<.*?>', '', text)\n",
    "    text = re.sub(r'[^a-zA-Z\\s]', '', text)\n",
    "    text = re.sub(r'\\s+', ' ', text)\n",
    "    words = text.split()\n",
    "    stop_words = set(stopwords.words('english'))\n",
    "    lemmatizer = WordNetLemmatizer()\n",
    "    cleaned = [lemmatizer.lemmatize(word) for word in words if word not in stop_words]\n",
    "    return ' '.join(cleaned)"
   ]
  },
  {
   "cell_type": "code",
   "execution_count": 17,
   "id": "b0b9ebc4-55ce-4eae-873b-4c4b4eb2fcac",
   "metadata": {},
   "outputs": [],
   "source": [
    "df['CleanText'] = df['Text'].apply(clean_text)\n",
    "df[['CleanText', 'Sentiment']].to_csv('processed_reviews.csv', index=False)"
   ]
  },
  {
   "cell_type": "code",
   "execution_count": 19,
   "id": "2d9d9b76-266c-4ab2-88f9-7239374cb4b7",
   "metadata": {},
   "outputs": [],
   "source": [
    "# Step 2: Feature Extraction\n",
    "\n",
    "from sklearn.feature_extraction.text import TfidfVectorizer"
   ]
  },
  {
   "cell_type": "code",
   "execution_count": 20,
   "id": "14bcfb91-c28b-4a2c-9c93-4d51f649c111",
   "metadata": {},
   "outputs": [],
   "source": [
    "vectorizer = TfidfVectorizer(max_features=5000)\n",
    "X = vectorizer.fit_transform(df['CleanText'])\n",
    "y = df['Sentiment']"
   ]
  },
  {
   "cell_type": "code",
   "execution_count": 21,
   "id": "4e28c321-623c-40b4-96f5-2d3a3b907b1a",
   "metadata": {},
   "outputs": [],
   "source": [
    "# Step 3: Train/Test Split\n",
    "\n",
    "from sklearn.model_selection import train_test_split\n",
    "X_train, X_test, y_train, y_test = train_test_split(X, y, test_size=0.2, random_state=42)"
   ]
  },
  {
   "cell_type": "code",
   "execution_count": null,
   "id": "1626e005-2b10-4574-88ee-7d6e1f0a9d76",
   "metadata": {},
   "outputs": [
    {
     "name": "stdout",
     "output_type": "stream",
     "text": [
      "\n",
      "===== Naive Bayes =====\n",
      "[[ 2923    12  8351]\n",
      " [  311    21  5553]\n",
      " [  284     3 61277]]\n",
      "              precision    recall  f1-score   support\n",
      "\n",
      "    negative       0.83      0.26      0.39     11286\n",
      "     neutral       0.58      0.00      0.01      5885\n",
      "    positive       0.82      1.00      0.90     61564\n",
      "\n",
      "    accuracy                           0.82     78735\n",
      "   macro avg       0.74      0.42      0.43     78735\n",
      "weighted avg       0.80      0.82      0.76     78735\n",
      "\n",
      "\n",
      "===== Logistic Regression =====\n",
      "[[ 7275   446  3565]\n",
      " [ 1343   863  3679]\n",
      " [ 1506   564 59494]]\n",
      "              precision    recall  f1-score   support\n",
      "\n",
      "    negative       0.72      0.64      0.68     11286\n",
      "     neutral       0.46      0.15      0.22      5885\n",
      "    positive       0.89      0.97      0.93     61564\n",
      "\n",
      "    accuracy                           0.86     78735\n",
      "   macro avg       0.69      0.59      0.61     78735\n",
      "weighted avg       0.83      0.86      0.84     78735\n",
      "\n",
      "\n",
      "===== Linear SVC =====\n",
      "[[ 7352   203  3731]\n",
      " [ 1468   510  3907]\n",
      " [ 1527   256 59781]]\n",
      "              precision    recall  f1-score   support\n",
      "\n",
      "    negative       0.71      0.65      0.68     11286\n",
      "     neutral       0.53      0.09      0.15      5885\n",
      "    positive       0.89      0.97      0.93     61564\n",
      "\n",
      "    accuracy                           0.86     78735\n",
      "   macro avg       0.71      0.57      0.59     78735\n",
      "weighted avg       0.83      0.86      0.83     78735\n",
      "\n"
     ]
    }
   ],
   "source": [
    "# Step 4: Machine Learning Models\n",
    "\n",
    "from sklearn.naive_bayes import MultinomialNB\n",
    "from sklearn.linear_model import LogisticRegression\n",
    "from sklearn.svm import LinearSVC\n",
    "from sklearn.ensemble import RandomForestClassifier\n",
    "from sklearn.metrics import classification_report, confusion_matrix\n",
    "\n",
    "models = {\n",
    "    'Naive Bayes': MultinomialNB(),\n",
    "    'Logistic Regression': LogisticRegression(max_iter=1000),\n",
    "    'Linear SVC': LinearSVC(),\n",
    "    'Random Forest': RandomForestClassifier()\n",
    "}\n",
    "\n",
    "for name, model in models.items():\n",
    "    model.fit(X_train, y_train)\n",
    "    y_pred = model.predict(X_test)\n",
    "    print(f\"\\n===== {name} =====\")\n",
    "    print(confusion_matrix(y_test, y_pred))\n",
    "    print(classification_report(y_test, y_pred))\n"
   ]
  },
  {
   "cell_type": "code",
   "execution_count": null,
   "id": "35674a66-b66a-4f0e-8056-236ab4aa8238",
   "metadata": {},
   "outputs": [],
   "source": [
    "# Step 5: Lexicon-Based Sentiment (VADER)\n",
    "\n",
    "from nltk.sentiment import SentimentIntensityAnalyzer\n",
    "nltk.download('vader_lexicon')\n",
    "\n",
    "sid = SentimentIntensityAnalyzer()\n",
    "\n",
    "def vader_sentiment(text):\n",
    "    score = sid.polarity_scores(text)['compound']\n",
    "    if score >= 0.05:\n",
    "        return 'positive'\n",
    "    elif score <= -0.05:\n",
    "        return 'negative'\n",
    "    else:\n",
    "        return 'neutral'\n",
    "\n",
    "df_sample = df.sample(5000, random_state=42)\n",
    "df_sample['VADER_Predicted'] = df_sample['Text'].apply(vader_sentiment)\n",
    "\n",
    "from sklearn.metrics import accuracy_score\n",
    "vader_accuracy = accuracy_score(df_sample['Sentiment'], df_sample['VADER_Predicted'])\n",
    "print(f\"\\n===== VADER Lexicon-Based Sentiment Accuracy: {vader_accuracy:.4f} =====\")\n"
   ]
  },
  {
   "cell_type": "code",
   "execution_count": null,
   "id": "b5c2077a-0174-463c-9067-87fb1209bd8d",
   "metadata": {},
   "outputs": [],
   "source": [
    "# Step 6: Discussion\n",
    "\n",
    "print(\"\"\"\n",
    "Name: NUR SYAKILA BINTI IZWAN HADI WONG\n",
    "Student ID: IS01082922\n",
    "\n",
    "Discussion:\n",
    "Lexicon-based sentiment analysis using VADER is simple and doesn't require training data,\n",
    "but it struggles with neutral tones and complex expressions. Among ML models, Linear SVC\n",
    "and Logistic Regression performed best, especially in handling large feature spaces like TF-IDF.\n",
    "They can capture subtleties in review texts, though they require more processing and training time.\n",
    "\n",
    "In conclusion, ML-based models provide better performance and flexibility for sentiment analysis\n",
    "on this Amazon review dataset compared to lexicon-based approaches.\n",
    "\"\"\")\n"
   ]
  }
 ],
 "metadata": {
  "kernelspec": {
   "display_name": "Python 3 (ipykernel)",
   "language": "python",
   "name": "python3"
  },
  "language_info": {
   "codemirror_mode": {
    "name": "ipython",
    "version": 3
   },
   "file_extension": ".py",
   "mimetype": "text/x-python",
   "name": "python",
   "nbconvert_exporter": "python",
   "pygments_lexer": "ipython3",
   "version": "3.12.7"
  }
 },
 "nbformat": 4,
 "nbformat_minor": 5
}
